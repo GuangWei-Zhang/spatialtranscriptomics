{
 "cells": [
  {
   "cell_type": "code",
   "execution_count": 5,
   "id": "61d5ef53",
   "metadata": {},
   "outputs": [
    {
     "name": "stdout",
     "output_type": "stream",
     "text": [
      "Update completed!\n"
     ]
    }
   ],
   "source": [
    "import os\n",
    "import json\n",
    "\n",
    "# Define the paths to the source, destination, and corrected directories\n",
    "source_dir = \"G:\\\\My Drive\\\\Project\\\\[1] Spinal Cord Spatial Transcriptome\\\\h5ad\\\\Cell_bin_json_files\\\\bin1_images_Edwin\"\n",
    "dest_dir = \"G:\\\\My Drive\\\\Project\\\\[1] Spinal Cord Spatial Transcriptome\\\\h5ad\\\\Cell_bin_json_files\\\\bin1_images_Edwin\\\\off_set_renamed\"\n",
    "corrected_dir = \"G:\\\\My Drive\\\\Project\\\\[1] Spinal Cord Spatial Transcriptome\\\\h5ad\\\\Cell_bin_json_files\\\\bin1_images_Edwin\\\\corrected json\"\n",
    "\n",
    "# Create the corrected directory if it doesn't exist\n",
    "if not os.path.exists(corrected_dir):\n",
    "    os.makedirs(corrected_dir)\n",
    "\n",
    "# Process each JSON file in the source directory\n",
    "for source_filename in os.listdir(source_dir):\n",
    "    if source_filename.endswith(\".json\"):\n",
    "        with open(os.path.join(source_dir, source_filename), 'r') as f:\n",
    "            source_data = json.load(f)\n",
    "\n",
    "        # Extract the required values\n",
    "        imagePath = source_data[\"imagePath\"]\n",
    "        imageData = source_data[\"imageData\"]\n",
    "        imageHeight = source_data[\"imageHeight\"]\n",
    "        imageWidth = source_data[\"imageWidth\"]\n",
    "\n",
    "        # Create a version of source_filename without \"_bin1\" for matching\n",
    "        matched_filename = source_filename.replace(\"_bin1\", \"\")\n",
    "\n",
    "        # Add \"_bin\" suffix to the matched filename\n",
    "        corrected_filename = matched_filename.replace(\".json\", \"_bin1.json\")\n",
    "\n",
    "        # Check if the matched filename exists in the destination directory\n",
    "        if matched_filename in os.listdir(dest_dir):\n",
    "            with open(os.path.join(dest_dir, matched_filename), 'r') as f:\n",
    "                dest_data = json.load(f)\n",
    "            \n",
    "            # Update the fields\n",
    "            dest_data[\"imagePath\"] = imagePath\n",
    "            dest_data[\"imageData\"] = imageData\n",
    "            dest_data[\"imageHeight\"] = imageHeight\n",
    "            dest_data[\"imageWidth\"] = imageWidth\n",
    "                \n",
    "            # Save the updated JSON file in the corrected directory with \"_bin\" suffix\n",
    "            with open(os.path.join(corrected_dir, corrected_filename), 'w') as f:\n",
    "                json.dump(dest_data, f, indent=4)\n",
    "\n",
    "print(\"Update completed!\")\n"
   ]
  },
  {
   "cell_type": "code",
   "execution_count": null,
   "id": "bcd25ec9",
   "metadata": {},
   "outputs": [],
   "source": []
  }
 ],
 "metadata": {
  "kernelspec": {
   "display_name": "Python 3 (ipykernel)",
   "language": "python",
   "name": "python3"
  },
  "language_info": {
   "codemirror_mode": {
    "name": "ipython",
    "version": 3
   },
   "file_extension": ".py",
   "mimetype": "text/x-python",
   "name": "python",
   "nbconvert_exporter": "python",
   "pygments_lexer": "ipython3",
   "version": "3.10.9"
  }
 },
 "nbformat": 4,
 "nbformat_minor": 5
}
