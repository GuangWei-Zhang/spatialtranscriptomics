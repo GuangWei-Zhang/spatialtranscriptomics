{
 "cells": [
  {
   "cell_type": "code",
   "execution_count": null,
   "id": "a218be04",
   "metadata": {},
   "outputs": [],
   "source": [
    "import json\n",
    "import os\n",
    "from shapely.geometry import Point, Polygon\n",
    "\n",
    "# Load the tissue JSON file\n",
    "def load_tissue_polygon(tissue_filepath):\n",
    "    with open(tissue_filepath, 'r') as file:\n",
    "        tissue_data = json.load(file)\n",
    "    return tissue_data['shapes'][0]['points']\n",
    "\n",
    "def is_point_inside_polygon(point, polygon):\n",
    "    \"\"\"Check if the given point is inside the given polygon.\"\"\"\n",
    "    return Point(point).within(Polygon(polygon))\n",
    "\n",
    "def filter_cells_by_tissue(cell_filepath, tissue_polygon):\n",
    "    with open(cell_filepath, 'r') as file:\n",
    "        cell_data = json.load(file)\n",
    "    \n",
    "    filtered_cells = [cell for cell in cell_data['shapes'] if all(is_point_inside_polygon(point, tissue_polygon) for point in cell['points'])]\n",
    "    cell_data['shapes'] = filtered_cells\n",
    "    \n",
    "    return cell_data\n",
    "\n",
    "def batch_process(root_folder):\n",
    "    cell_dir = os.path.join(root_folder, \"final_corrected_cell_json\")\n",
    "    tissue_dir = os.path.join(root_folder, \"final_tissue_json\")\n",
    "    output_dir = os.path.join(root_folder, \"filtered_cell_json\")\n",
    "    \n",
    "    # Ensure the output directory exists\n",
    "    if not os.path.exists(output_dir):\n",
    "        os.makedirs(output_dir)\n",
    "\n",
    "    # Filter cell files\n",
    "    for cell_file in os.listdir(cell_dir):\n",
    "        # Find the matching tissue JSON file by filename\n",
    "        tissue_file = os.path.join(tissue_dir, cell_file)\n",
    "        if os.path.exists(tissue_file):\n",
    "            tissue_polygon = load_tissue_polygon(tissue_file)\n",
    "            filtered_data = filter_cells_by_tissue(os.path.join(cell_dir, cell_file), tissue_polygon)\n",
    "            with open(os.path.join(output_dir, cell_file), 'w') as output_file:\n",
    "                json.dump(filtered_data, output_file)\n",
    "        else:\n",
    "            print(f\"No matching tissue file found for {cell_file}\")\n",
    "\n",
    "# Execute the batch processing\n",
    "batch_process(\"G:\\\\My Drive\\\\Project\\\\[1] Spinal Cord Spatial Transcriptome\\\\h5ad\\\\Cell_bin_json_files\\\\bin1_images_Edwin\")\n"
   ]
  },
  {
   "cell_type": "code",
   "execution_count": 2,
   "id": "9baf7c37",
   "metadata": {},
   "outputs": [
    {
     "name": "stdout",
     "output_type": "stream",
     "text": [
      "Defaulting to user installation because normal site-packages is not writeable\n",
      "Collecting shapely\n",
      "  Downloading shapely-2.0.1-cp310-cp310-win_amd64.whl (1.4 MB)\n",
      "     ---------------------------------------- 1.4/1.4 MB 21.9 MB/s eta 0:00:00\n",
      "Requirement already satisfied: numpy>=1.14 in c:\\programdata\\anaconda3\\lib\\site-packages (from shapely) (1.23.5)\n",
      "Installing collected packages: shapely\n",
      "Successfully installed shapely-2.0.1\n",
      "Note: you may need to restart the kernel to use updated packages.\n"
     ]
    }
   ],
   "source": [
    "pip install shapely"
   ]
  },
  {
   "cell_type": "code",
   "execution_count": null,
   "id": "03335196",
   "metadata": {},
   "outputs": [],
   "source": []
  }
 ],
 "metadata": {
  "kernelspec": {
   "display_name": "Python 3 (ipykernel)",
   "language": "python",
   "name": "python3"
  },
  "language_info": {
   "codemirror_mode": {
    "name": "ipython",
    "version": 3
   },
   "file_extension": ".py",
   "mimetype": "text/x-python",
   "name": "python",
   "nbconvert_exporter": "python",
   "pygments_lexer": "ipython3",
   "version": "3.10.9"
  }
 },
 "nbformat": 4,
 "nbformat_minor": 5
}
